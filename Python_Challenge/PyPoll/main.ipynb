{
 "cells": [
  {
   "cell_type": "code",
   "execution_count": 3,
   "id": "6e4a49c1",
   "metadata": {},
   "outputs": [],
   "source": [
    "from operator import index\n",
    "import os\n"
   ]
  },
  {
   "cell_type": "code",
   "execution_count": 12,
   "id": "5901331a",
   "metadata": {},
   "outputs": [
    {
     "name": "stdout",
     "output_type": "stream",
     "text": [
      "Election Results 369711\n",
      "-------------------------\n",
      "Diana DeGette: 73.812% (272892) \n",
      "Charles Casper Stockham: 23.049% (85213) \n",
      "Raymon Anthony Doane: 3.139% (11606) \n",
      "-------------------------\n",
      "Winner: Diana DeGette\n",
      "-------------------------\n"
     ]
    }
   ],
   "source": [
    "import csv\n",
    "\n",
    "# Create Path\n",
    "csvpath = os.path.join('Resources', 'election_data.csv')\n",
    " \n",
    "with open(csvpath, encoding= 'utf') as csvfile:                \n",
    "    csvreader = csv.reader(csvfile, delimiter = ',')\n",
    "    output = \"Election Results \"\n",
    "    \n",
    "    next(csvreader)\n",
    "    \n",
    "    total_votes = []\n",
    "    candidates_votes = ()\n",
    "\n",
    "# Count the total number of votes \n",
    "\n",
    "    for line in csvreader:\n",
    "        total_votes.append(line[2])\n",
    "        \n",
    "total_vote_count = len(total_votes)\n",
    "output = output + str(total_vote_count) + \"\\n\" + \"-------------------------\" + \"\\n\"\n",
    "candidates = list(set(total_votes))\n",
    "votes_per_candidate = []\n",
    "vote_percentage = []\n",
    "\n",
    "# Create the list of candidates\n",
    "\n",
    "for candidate in candidates:\n",
    "    votes_per_candidate.append(total_votes.count(candidate))\n",
    "\n",
    "# The percentage of total votes per candidate\n",
    "for i in range (len(candidates)):\n",
    "    vote_percentage = votes_per_candidate[i]/total_vote_count*100\n",
    "    output = output + f'{candidates[i]}: {round(vote_percentage,3)}% ({votes_per_candidate[i]}) \\n'\n",
    "# The winner of the vote\n",
    "winner = votes_per_candidate.index(max(votes_per_candidate))\n",
    "output = output + f\"-------------------------\\nWinner: {candidates[winner]}\\n-------------------------\"   \n",
    "\n",
    "\n",
    "# Export result to text file\n",
    "print(output)\n",
    "csvpath = os.path.join('Analysis', 'Election_Results.txt')\n",
    "with open(csvpath,'w') as textfile:\n",
    "    textfile.write(output)\n"
   ]
  },
  {
   "cell_type": "code",
   "execution_count": null,
   "id": "65a81a9e",
   "metadata": {},
   "outputs": [],
   "source": []
  }
 ],
 "metadata": {
  "kernelspec": {
   "display_name": "Python 3 (ipykernel)",
   "language": "python",
   "name": "python3"
  },
  "language_info": {
   "codemirror_mode": {
    "name": "ipython",
    "version": 3
   },
   "file_extension": ".py",
   "mimetype": "text/x-python",
   "name": "python",
   "nbconvert_exporter": "python",
   "pygments_lexer": "ipython3",
   "version": "3.11.5"
  }
 },
 "nbformat": 4,
 "nbformat_minor": 5
}
