{
 "cells": [
  {
   "cell_type": "code",
   "execution_count": 8,
   "id": "a9637ea2",
   "metadata": {},
   "outputs": [],
   "source": [
    "import csv\n",
    "import os"
   ]
  },
  {
   "cell_type": "code",
   "execution_count": 10,
   "id": "3f969cec",
   "metadata": {},
   "outputs": [
    {
     "name": "stdout",
     "output_type": "stream",
     "text": [
      "  Financial Analysis\n",
      "  ----------------------------\n",
      "  Total Months: 86\n",
      "  Total: $22564198\n",
      "  Average Change: $-8311.11\n",
      "  Greatest Increase in Profits: Aug-16 ($1862002)\n",
      "  Greatest Decrease in Profits: Feb-14 ($-1825558)\n",
      "  \n",
      "  \n"
     ]
    }
   ],
   "source": [
    "csvpath = os.path.join('Resources', 'budget_data.csv')\n",
    "\n",
    "with open(csvpath, encoding= 'utf') as csvfile:\n",
    "    csvreader = csv.reader(csvfile, delimiter = ',')\n",
    "    next(csvreader)\n",
    "    budget_data = [next(csvreader)]\n",
    "    net_amount = int(budget_data[0][1])\n",
    "    changes = []\n",
    "    #Calculate change inside for loop\n",
    "    profit_loss = net_amount\n",
    "\n",
    "    for line in csvreader:\n",
    "        # The total number of months included in the dataset\n",
    "        budget_data.append(line)\n",
    "        \n",
    "        # The Net total amount of Profit/Losses over entire period\n",
    "        net_amount = net_amount + int(line[1])\n",
    "         \n",
    "       # The changes in profit/loss over entire period\n",
    "        changes.append(int(line[1])-profit_loss)\n",
    "       \n",
    "        # Average changes of profit/loss\n",
    "        profit_loss = int(line[1])\n",
    "\n",
    "\n",
    "# Greatest increase in profit (date and amount)\n",
    "index_max_change = changes.index(max(changes))\n",
    "\n",
    "#Greatest decrease in profit (date and amount)\n",
    "index_max_loss = changes.index(min(changes))\n",
    "\n",
    "# Export result to text file and print analysis in terminal\n",
    "output = f'''  Financial Analysis\n",
    "  ----------------------------\n",
    "  Total Months: {len(budget_data)}\n",
    "  Total: ${net_amount}\n",
    "  Average Change: ${round(sum(changes)/(len(changes)),2)}\n",
    "  Greatest Increase in Profits: {budget_data[index_max_change+1][0]} (${max(changes)})\n",
    "  Greatest Decrease in Profits: {budget_data[index_max_loss+1][0]} (${min(changes)})\n",
    "  \n",
    "  '''\n",
    "print(output)\n",
    "csvpath = os.path.join('Analysis', 'Financial_Analysis.txt')\n",
    "with open(csvpath,'w') as textfile:\n",
    "    textfile.write(output)\n"
   ]
  },
  {
   "cell_type": "code",
   "execution_count": null,
   "id": "33f0064e",
   "metadata": {},
   "outputs": [],
   "source": []
  }
 ],
 "metadata": {
  "kernelspec": {
   "display_name": "Python 3 (ipykernel)",
   "language": "python",
   "name": "python3"
  },
  "language_info": {
   "codemirror_mode": {
    "name": "ipython",
    "version": 3
   },
   "file_extension": ".py",
   "mimetype": "text/x-python",
   "name": "python",
   "nbconvert_exporter": "python",
   "pygments_lexer": "ipython3",
   "version": "3.11.4"
  }
 },
 "nbformat": 4,
 "nbformat_minor": 5
}
